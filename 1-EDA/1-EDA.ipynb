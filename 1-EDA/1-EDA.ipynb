{
 "cells": [
  {
   "cell_type": "markdown",
   "metadata": {},
   "source": [
    "**1-Veriler için küçük bir ön bilgilendirme ve analiz alalım**"
   ]
  },
  {
   "cell_type": "code",
   "execution_count": 2,
   "metadata": {},
   "outputs": [],
   "source": [
    "import pandas as pd\n",
    "import numpy as np\n"
   ]
  },
  {
   "cell_type": "code",
   "execution_count": 2,
   "metadata": {},
   "outputs": [],
   "source": [
    "pit_stops = pd.read_csv(\"pit_stops.csv\")\n",
    "drivers = pd.read_csv(\"drivers.csv\")\n",
    "constructors = pd.read_csv(\"constructors.csv\")\n",
    "races = pd.read_csv(\"races.csv\")\n",
    "results = pd.read_csv(\"results.csv\")"
   ]
  },
  {
   "cell_type": "code",
   "execution_count": 16,
   "metadata": {},
   "outputs": [
    {
     "data": {
      "text/plain": [
       "<bound method NDFrame.describe of        raceId  driverId  stop  lap      time duration  milliseconds\n",
       "0         841       153     1    1  17:05:23   26.898         26898\n",
       "1         841        30     1    1  17:05:52   25.021         25021\n",
       "2         841        17     1   11  17:20:48   23.426         23426\n",
       "3         841         4     1   12  17:22:34   23.251         23251\n",
       "4         841        13     1   13  17:24:10   23.842         23842\n",
       "...       ...       ...   ...  ...       ...      ...           ...\n",
       "10985    1132       807     2   39  16:06:28   30.265         30265\n",
       "10986    1132       840     2   39  16:06:33   29.469         29469\n",
       "10987    1132       839     4   38  16:06:52   29.086         29086\n",
       "10988    1132       815     4   47  16:20:38   28.871         28871\n",
       "10989    1132       832     3   50  16:22:59   28.706         28706\n",
       "\n",
       "[10990 rows x 7 columns]>"
      ]
     },
     "execution_count": 16,
     "metadata": {},
     "output_type": "execute_result"
    }
   ],
   "source": [
    "#Dikkat time süreleri eksik bunun sebebi o yıllara ait verilerin olmaması olabilir.\n",
    "pit_stops.describe\n"
   ]
  },
  {
   "cell_type": "code",
   "execution_count": 8,
   "metadata": {},
   "outputs": [
    {
     "data": {
      "text/plain": [
       "driverId       0\n",
       "driverRef      0\n",
       "number         0\n",
       "code           0\n",
       "forename       0\n",
       "surname        0\n",
       "dob            0\n",
       "nationality    0\n",
       "url            0\n",
       "dtype: int64"
      ]
     },
     "execution_count": 8,
     "metadata": {},
     "output_type": "execute_result"
    }
   ],
   "source": [
    "drivers.isnull().sum()"
   ]
  },
  {
   "cell_type": "code",
   "execution_count": 11,
   "metadata": {},
   "outputs": [
    {
     "data": {
      "text/plain": [
       "constructorId     0\n",
       "constructorRef    0\n",
       "name              0\n",
       "nationality       0\n",
       "url               0\n",
       "dtype: int64"
      ]
     },
     "execution_count": 11,
     "metadata": {},
     "output_type": "execute_result"
    }
   ],
   "source": [
    "constructors.isnull().sum()"
   ]
  },
  {
   "cell_type": "code",
   "execution_count": 12,
   "metadata": {},
   "outputs": [
    {
     "data": {
      "text/plain": [
       "raceId         0\n",
       "year           0\n",
       "round          0\n",
       "circuitId      0\n",
       "name           0\n",
       "date           0\n",
       "time           0\n",
       "url            0\n",
       "fp1_date       0\n",
       "fp1_time       0\n",
       "fp2_date       0\n",
       "fp2_time       0\n",
       "fp3_date       0\n",
       "fp3_time       0\n",
       "quali_date     0\n",
       "quali_time     0\n",
       "sprint_date    0\n",
       "sprint_time    0\n",
       "dtype: int64"
      ]
     },
     "execution_count": 12,
     "metadata": {},
     "output_type": "execute_result"
    }
   ],
   "source": [
    "races.isnull().sum()"
   ]
  },
  {
   "cell_type": "code",
   "execution_count": 13,
   "metadata": {},
   "outputs": [
    {
     "data": {
      "text/plain": [
       "resultId           0\n",
       "raceId             0\n",
       "driverId           0\n",
       "constructorId      0\n",
       "number             0\n",
       "grid               0\n",
       "position           0\n",
       "positionText       0\n",
       "positionOrder      0\n",
       "points             0\n",
       "laps               0\n",
       "time               0\n",
       "milliseconds       0\n",
       "fastestLap         0\n",
       "rank               0\n",
       "fastestLapTime     0\n",
       "fastestLapSpeed    0\n",
       "statusId           0\n",
       "dtype: int64"
      ]
     },
     "execution_count": 13,
     "metadata": {},
     "output_type": "execute_result"
    }
   ],
   "source": [
    "results.isnull().sum()"
   ]
  },
  {
   "cell_type": "markdown",
   "metadata": {},
   "source": [
    "**2-SQL den data dataframini inceleyelim**\n"
   ]
  },
  {
   "cell_type": "code",
   "execution_count": 19,
   "metadata": {},
   "outputs": [
    {
     "data": {
      "text/html": [
       "<div>\n",
       "<style scoped>\n",
       "    .dataframe tbody tr th:only-of-type {\n",
       "        vertical-align: middle;\n",
       "    }\n",
       "\n",
       "    .dataframe tbody tr th {\n",
       "        vertical-align: top;\n",
       "    }\n",
       "\n",
       "    .dataframe thead th {\n",
       "        text-align: right;\n",
       "    }\n",
       "</style>\n",
       "<table border=\"1\" class=\"dataframe\">\n",
       "  <thead>\n",
       "    <tr style=\"text-align: right;\">\n",
       "      <th></th>\n",
       "      <th>raceId</th>\n",
       "      <th>year</th>\n",
       "      <th>round</th>\n",
       "      <th>circuitId</th>\n",
       "      <th>driverId</th>\n",
       "      <th>constructorId</th>\n",
       "      <th>pit_stop_time</th>\n",
       "      <th>winner</th>\n",
       "    </tr>\n",
       "  </thead>\n",
       "  <tbody>\n",
       "    <tr>\n",
       "      <th>0</th>\n",
       "      <td>900</td>\n",
       "      <td>2014</td>\n",
       "      <td>1</td>\n",
       "      <td>1</td>\n",
       "      <td>3</td>\n",
       "      <td>131</td>\n",
       "      <td>23673.0</td>\n",
       "      <td>1</td>\n",
       "    </tr>\n",
       "    <tr>\n",
       "      <th>1</th>\n",
       "      <td>900</td>\n",
       "      <td>2014</td>\n",
       "      <td>1</td>\n",
       "      <td>1</td>\n",
       "      <td>3</td>\n",
       "      <td>131</td>\n",
       "      <td>24331.0</td>\n",
       "      <td>1</td>\n",
       "    </tr>\n",
       "    <tr>\n",
       "      <th>2</th>\n",
       "      <td>900</td>\n",
       "      <td>2014</td>\n",
       "      <td>1</td>\n",
       "      <td>1</td>\n",
       "      <td>4</td>\n",
       "      <td>6</td>\n",
       "      <td>21978.0</td>\n",
       "      <td>0</td>\n",
       "    </tr>\n",
       "    <tr>\n",
       "      <th>3</th>\n",
       "      <td>900</td>\n",
       "      <td>2014</td>\n",
       "      <td>1</td>\n",
       "      <td>1</td>\n",
       "      <td>4</td>\n",
       "      <td>6</td>\n",
       "      <td>22887.0</td>\n",
       "      <td>0</td>\n",
       "    </tr>\n",
       "    <tr>\n",
       "      <th>4</th>\n",
       "      <td>900</td>\n",
       "      <td>2014</td>\n",
       "      <td>1</td>\n",
       "      <td>1</td>\n",
       "      <td>8</td>\n",
       "      <td>6</td>\n",
       "      <td>21825.0</td>\n",
       "      <td>0</td>\n",
       "    </tr>\n",
       "    <tr>\n",
       "      <th>...</th>\n",
       "      <td>...</td>\n",
       "      <td>...</td>\n",
       "      <td>...</td>\n",
       "      <td>...</td>\n",
       "      <td>...</td>\n",
       "      <td>...</td>\n",
       "      <td>...</td>\n",
       "      <td>...</td>\n",
       "    </tr>\n",
       "    <tr>\n",
       "      <th>7974</th>\n",
       "      <td>1132</td>\n",
       "      <td>2024</td>\n",
       "      <td>12</td>\n",
       "      <td>9</td>\n",
       "      <td>855</td>\n",
       "      <td>15</td>\n",
       "      <td>33083.0</td>\n",
       "      <td>0</td>\n",
       "    </tr>\n",
       "    <tr>\n",
       "      <th>7975</th>\n",
       "      <td>1132</td>\n",
       "      <td>2024</td>\n",
       "      <td>12</td>\n",
       "      <td>9</td>\n",
       "      <td>857</td>\n",
       "      <td>1</td>\n",
       "      <td>29200.0</td>\n",
       "      <td>0</td>\n",
       "    </tr>\n",
       "    <tr>\n",
       "      <th>7976</th>\n",
       "      <td>1132</td>\n",
       "      <td>2024</td>\n",
       "      <td>12</td>\n",
       "      <td>9</td>\n",
       "      <td>857</td>\n",
       "      <td>1</td>\n",
       "      <td>29541.0</td>\n",
       "      <td>0</td>\n",
       "    </tr>\n",
       "    <tr>\n",
       "      <th>7977</th>\n",
       "      <td>1132</td>\n",
       "      <td>2024</td>\n",
       "      <td>12</td>\n",
       "      <td>9</td>\n",
       "      <td>858</td>\n",
       "      <td>3</td>\n",
       "      <td>29444.0</td>\n",
       "      <td>0</td>\n",
       "    </tr>\n",
       "    <tr>\n",
       "      <th>7978</th>\n",
       "      <td>1132</td>\n",
       "      <td>2024</td>\n",
       "      <td>12</td>\n",
       "      <td>9</td>\n",
       "      <td>858</td>\n",
       "      <td>3</td>\n",
       "      <td>32801.0</td>\n",
       "      <td>0</td>\n",
       "    </tr>\n",
       "  </tbody>\n",
       "</table>\n",
       "<p>7979 rows × 8 columns</p>\n",
       "</div>"
      ],
      "text/plain": [
       "      raceId  year  round  circuitId  driverId  constructorId  pit_stop_time  \\\n",
       "0        900  2014      1          1         3            131        23673.0   \n",
       "1        900  2014      1          1         3            131        24331.0   \n",
       "2        900  2014      1          1         4              6        21978.0   \n",
       "3        900  2014      1          1         4              6        22887.0   \n",
       "4        900  2014      1          1         8              6        21825.0   \n",
       "...      ...   ...    ...        ...       ...            ...            ...   \n",
       "7974    1132  2024     12          9       855             15        33083.0   \n",
       "7975    1132  2024     12          9       857              1        29200.0   \n",
       "7976    1132  2024     12          9       857              1        29541.0   \n",
       "7977    1132  2024     12          9       858              3        29444.0   \n",
       "7978    1132  2024     12          9       858              3        32801.0   \n",
       "\n",
       "      winner  \n",
       "0          1  \n",
       "1          1  \n",
       "2          0  \n",
       "3          0  \n",
       "4          0  \n",
       "...      ...  \n",
       "7974       0  \n",
       "7975       0  \n",
       "7976       0  \n",
       "7977       0  \n",
       "7978       0  \n",
       "\n",
       "[7979 rows x 8 columns]"
      ]
     },
     "execution_count": 19,
     "metadata": {},
     "output_type": "execute_result"
    }
   ],
   "source": [
    "data = pd.read_csv(\"data.csv\")\n",
    "data"
   ]
  },
  {
   "cell_type": "code",
   "execution_count": 21,
   "metadata": {},
   "outputs": [
    {
     "data": {
      "text/plain": [
       "raceId             int64\n",
       "year               int64\n",
       "round              int64\n",
       "circuitId          int64\n",
       "driverId           int64\n",
       "constructorId      int64\n",
       "pit_stop_time    float64\n",
       "winner             int64\n",
       "dtype: object"
      ]
     },
     "execution_count": 21,
     "metadata": {},
     "output_type": "execute_result"
    }
   ],
   "source": [
    "data.dtypes"
   ]
  },
  {
   "cell_type": "markdown",
   "metadata": {},
   "source": [
    "\"circuitId\", \"driverId\", \"constructorId\" sütunlarının kategorik değer olduğunu biliyoruz. bu sebeple one hot encoding yapmamız gerekiyor"
   ]
  }
 ],
 "metadata": {
  "kernelspec": {
   "display_name": "Python 3",
   "language": "python",
   "name": "python3"
  },
  "language_info": {
   "codemirror_mode": {
    "name": "ipython",
    "version": 3
   },
   "file_extension": ".py",
   "mimetype": "text/x-python",
   "name": "python",
   "nbconvert_exporter": "python",
   "pygments_lexer": "ipython3",
   "version": "3.11.9"
  }
 },
 "nbformat": 4,
 "nbformat_minor": 2
}
