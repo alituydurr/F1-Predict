{
 "cells": [
  {
   "cell_type": "code",
   "execution_count": 1,
   "metadata": {},
   "outputs": [
    {
     "name": "stderr",
     "output_type": "stream",
     "text": [
      "C:\\Users\\ali_t\\AppData\\Local\\Packages\\PythonSoftwareFoundation.Python.3.11_qbz5n2kfra8p0\\LocalCache\\local-packages\\Python311\\site-packages\\tqdm\\auto.py:21: TqdmWarning: IProgress not found. Please update jupyter and ipywidgets. See https://ipywidgets.readthedocs.io/en/stable/user_install.html\n",
      "  from .autonotebook import tqdm as notebook_tqdm\n"
     ]
    }
   ],
   "source": [
    "import joblib\n",
    "import pandas as pd \n",
    "import numpy as np\n",
    "from sklearn.model_selection import train_test_split\n",
    "from sklearn.ensemble import RandomForestClassifier\n",
    "from sklearn.metrics import accuracy_score, classification_report\n",
    "from joblib import dump\n",
    "import shap\n"
   ]
  },
  {
   "cell_type": "code",
   "execution_count": 23,
   "metadata": {},
   "outputs": [],
   "source": [
    "data=pd.read_csv(\"data.csv\")\n"
   ]
  },
  {
   "cell_type": "code",
   "execution_count": 29,
   "metadata": {},
   "outputs": [],
   "source": [
    "data.drop(columns='round', inplace=True)\n",
    "data.drop(columns='raceId', inplace=True)\n",
    "data.drop(columns='points', inplace=True)\n",
    "data.drop(columns='laps', inplace=True)\n",
    "data.drop(columns='statusId', inplace=True)"
   ]
  },
  {
   "cell_type": "code",
   "execution_count": 37,
   "metadata": {},
   "outputs": [],
   "source": [
    "data['pit_stop_time']=data['pit_stop_time']/1000 "
   ]
  },
  {
   "cell_type": "code",
   "execution_count": 38,
   "metadata": {},
   "outputs": [
    {
     "data": {
      "text/html": [
       "<div>\n",
       "<style scoped>\n",
       "    .dataframe tbody tr th:only-of-type {\n",
       "        vertical-align: middle;\n",
       "    }\n",
       "\n",
       "    .dataframe tbody tr th {\n",
       "        vertical-align: top;\n",
       "    }\n",
       "\n",
       "    .dataframe thead th {\n",
       "        text-align: right;\n",
       "    }\n",
       "</style>\n",
       "<table border=\"1\" class=\"dataframe\">\n",
       "  <thead>\n",
       "    <tr style=\"text-align: right;\">\n",
       "      <th></th>\n",
       "      <th>year</th>\n",
       "      <th>circuitId</th>\n",
       "      <th>driverId</th>\n",
       "      <th>constructorId</th>\n",
       "      <th>pit_stop_time</th>\n",
       "      <th>positionOrder</th>\n",
       "      <th>grid</th>\n",
       "    </tr>\n",
       "  </thead>\n",
       "  <tbody>\n",
       "    <tr>\n",
       "      <th>0</th>\n",
       "      <td>2014</td>\n",
       "      <td>1</td>\n",
       "      <td>3</td>\n",
       "      <td>131</td>\n",
       "      <td>23.673</td>\n",
       "      <td>1</td>\n",
       "      <td>3</td>\n",
       "    </tr>\n",
       "    <tr>\n",
       "      <th>1</th>\n",
       "      <td>2014</td>\n",
       "      <td>1</td>\n",
       "      <td>3</td>\n",
       "      <td>131</td>\n",
       "      <td>24.331</td>\n",
       "      <td>1</td>\n",
       "      <td>3</td>\n",
       "    </tr>\n",
       "    <tr>\n",
       "      <th>2</th>\n",
       "      <td>2014</td>\n",
       "      <td>1</td>\n",
       "      <td>4</td>\n",
       "      <td>6</td>\n",
       "      <td>21.978</td>\n",
       "      <td>4</td>\n",
       "      <td>5</td>\n",
       "    </tr>\n",
       "    <tr>\n",
       "      <th>3</th>\n",
       "      <td>2014</td>\n",
       "      <td>1</td>\n",
       "      <td>4</td>\n",
       "      <td>6</td>\n",
       "      <td>22.887</td>\n",
       "      <td>4</td>\n",
       "      <td>5</td>\n",
       "    </tr>\n",
       "    <tr>\n",
       "      <th>4</th>\n",
       "      <td>2014</td>\n",
       "      <td>1</td>\n",
       "      <td>8</td>\n",
       "      <td>6</td>\n",
       "      <td>21.825</td>\n",
       "      <td>7</td>\n",
       "      <td>11</td>\n",
       "    </tr>\n",
       "    <tr>\n",
       "      <th>...</th>\n",
       "      <td>...</td>\n",
       "      <td>...</td>\n",
       "      <td>...</td>\n",
       "      <td>...</td>\n",
       "      <td>...</td>\n",
       "      <td>...</td>\n",
       "      <td>...</td>\n",
       "    </tr>\n",
       "    <tr>\n",
       "      <th>7974</th>\n",
       "      <td>2024</td>\n",
       "      <td>9</td>\n",
       "      <td>855</td>\n",
       "      <td>15</td>\n",
       "      <td>33.083</td>\n",
       "      <td>18</td>\n",
       "      <td>14</td>\n",
       "    </tr>\n",
       "    <tr>\n",
       "      <th>7975</th>\n",
       "      <td>2024</td>\n",
       "      <td>9</td>\n",
       "      <td>857</td>\n",
       "      <td>1</td>\n",
       "      <td>29.200</td>\n",
       "      <td>4</td>\n",
       "      <td>5</td>\n",
       "    </tr>\n",
       "    <tr>\n",
       "      <th>7976</th>\n",
       "      <td>2024</td>\n",
       "      <td>9</td>\n",
       "      <td>857</td>\n",
       "      <td>1</td>\n",
       "      <td>29.541</td>\n",
       "      <td>4</td>\n",
       "      <td>5</td>\n",
       "    </tr>\n",
       "    <tr>\n",
       "      <th>7977</th>\n",
       "      <td>2024</td>\n",
       "      <td>9</td>\n",
       "      <td>858</td>\n",
       "      <td>3</td>\n",
       "      <td>29.444</td>\n",
       "      <td>11</td>\n",
       "      <td>12</td>\n",
       "    </tr>\n",
       "    <tr>\n",
       "      <th>7978</th>\n",
       "      <td>2024</td>\n",
       "      <td>9</td>\n",
       "      <td>858</td>\n",
       "      <td>3</td>\n",
       "      <td>32.801</td>\n",
       "      <td>11</td>\n",
       "      <td>12</td>\n",
       "    </tr>\n",
       "  </tbody>\n",
       "</table>\n",
       "<p>7979 rows × 7 columns</p>\n",
       "</div>"
      ],
      "text/plain": [
       "      year  circuitId  driverId  constructorId  pit_stop_time  positionOrder  \\\n",
       "0     2014          1         3            131         23.673              1   \n",
       "1     2014          1         3            131         24.331              1   \n",
       "2     2014          1         4              6         21.978              4   \n",
       "3     2014          1         4              6         22.887              4   \n",
       "4     2014          1         8              6         21.825              7   \n",
       "...    ...        ...       ...            ...            ...            ...   \n",
       "7974  2024          9       855             15         33.083             18   \n",
       "7975  2024          9       857              1         29.200              4   \n",
       "7976  2024          9       857              1         29.541              4   \n",
       "7977  2024          9       858              3         29.444             11   \n",
       "7978  2024          9       858              3         32.801             11   \n",
       "\n",
       "      grid  \n",
       "0        3  \n",
       "1        3  \n",
       "2        5  \n",
       "3        5  \n",
       "4       11  \n",
       "...    ...  \n",
       "7974    14  \n",
       "7975     5  \n",
       "7976     5  \n",
       "7977    12  \n",
       "7978    12  \n",
       "\n",
       "[7979 rows x 7 columns]"
      ]
     },
     "execution_count": 38,
     "metadata": {},
     "output_type": "execute_result"
    }
   ],
   "source": [
    "data"
   ]
  },
  {
   "cell_type": "code",
   "execution_count": 39,
   "metadata": {},
   "outputs": [
    {
     "name": "stdout",
     "output_type": "stream",
     "text": [
      "classification report:\n",
      "               precision    recall  f1-score   support\n",
      "\n",
      "           1       0.65      0.74      0.69        70\n",
      "           2       0.58      0.60      0.59        88\n",
      "           3       0.57      0.60      0.58        89\n",
      "           4       0.59      0.68      0.63        77\n",
      "           5       0.54      0.66      0.60        77\n",
      "           6       0.65      0.52      0.58        85\n",
      "           7       0.60      0.53      0.56        93\n",
      "           8       0.65      0.67      0.66        79\n",
      "           9       0.66      0.62      0.64        95\n",
      "          10       0.55      0.56      0.56        75\n",
      "          11       0.56      0.53      0.54        93\n",
      "          12       0.62      0.66      0.64        97\n",
      "          13       0.59      0.67      0.63        95\n",
      "          14       0.60      0.65      0.63        89\n",
      "          15       0.65      0.60      0.62        91\n",
      "          16       0.52      0.59      0.55        76\n",
      "          17       0.59      0.68      0.63        65\n",
      "          18       0.68      0.64      0.66        64\n",
      "          19       0.64      0.38      0.47        56\n",
      "          20       0.69      0.30      0.42        30\n",
      "          21       1.00      0.33      0.50         9\n",
      "          22       0.33      0.33      0.33         3\n",
      "\n",
      "    accuracy                           0.60      1596\n",
      "   macro avg       0.61      0.57      0.58      1596\n",
      "weighted avg       0.61      0.60      0.60      1596\n",
      "\n",
      "accuracy: 0.6027568922305765\n"
     ]
    }
   ],
   "source": [
    "# Son 10 yıl verisini filtreleme\n",
    "data = data[data[\"year\"] >= 2014]\n",
    "\n",
    "# Özellikler ve hedef değişken\n",
    "X = data.drop(columns=[\"positionOrder\", \"year\"]) \n",
    "\n",
    "\n",
    "#veriyi train test olarak bölelim\n",
    "\n",
    "X_train, X_test, y_train, y_test = train_test_split(X,y, test_size=0.2, random_state=42)\n",
    "\n",
    "#modeli oluşturup eğitelim\n",
    "\n",
    "rf_model= RandomForestClassifier(n_estimators=100, random_state=42)\n",
    "rf_model.fit(X_train,y_train)\n",
    "\n",
    "#tahmin yapalım\n",
    "y_pred = rf_model.predict(X_test)\n",
    "print(\"classification report:\\n\", classification_report(y_test, y_pred))\n",
    "print(\"accuracy:\", accuracy_score(y_test, y_pred))"
   ]
  },
  {
   "cell_type": "code",
   "execution_count": 40,
   "metadata": {},
   "outputs": [
    {
     "data": {
      "text/plain": [
       "['model.pkl']"
      ]
     },
     "execution_count": 40,
     "metadata": {},
     "output_type": "execute_result"
    }
   ],
   "source": [
    "#modeli kaydedelim\n",
    "joblib.dump(rf_model,'model.pkl')"
   ]
  },
  {
   "cell_type": "code",
   "execution_count": 41,
   "metadata": {},
   "outputs": [
    {
     "data": {
      "text/plain": [
       ".values =\n",
       "array([[[ 9.21479371e-04,  5.58326618e-04, -1.35303481e-03, ...,\n",
       "         -9.01787152e-03, -1.42254483e-04,  7.20026679e-04],\n",
       "        [-1.52935068e-02, -6.67033144e-03,  2.75231359e-03, ...,\n",
       "          2.62152931e-03,  1.03765665e-03, -8.53821154e-04],\n",
       "        [-1.28685185e-02, -2.61287415e-03, -1.29386515e-02, ...,\n",
       "         -3.45054263e-03, -3.89617648e-03,  2.17870600e-03],\n",
       "        [ 1.47131546e-03,  1.80596552e-03, -4.11223663e-03, ...,\n",
       "         -1.49260840e-02, -8.53059169e-04,  9.49441014e-04],\n",
       "        [-2.52020996e-02, -4.26345880e-02, -3.50189218e-02, ...,\n",
       "          6.13439764e-03,  2.09778962e-04, -6.28434157e-03]],\n",
       "\n",
       "       [[-8.47842525e-04, -1.49265011e-03, -3.34180562e-03, ...,\n",
       "          6.15688525e-03,  3.88979827e-03, -7.56644637e-05],\n",
       "        [-1.11462825e-02, -3.82764153e-03, -1.62581399e-04, ...,\n",
       "         -2.21899657e-03, -5.22525928e-04,  3.00542877e-05],\n",
       "        [-1.63642339e-02, -1.54329579e-02, -2.32632266e-02, ...,\n",
       "          5.74664250e-03,  5.88144687e-03, -9.87509694e-04],\n",
       "        [ 2.09936738e-03, -7.47153458e-04,  3.68816393e-03, ...,\n",
       "         -6.43120454e-03, -4.66165078e-03, -1.81089626e-04],\n",
       "        [-2.47123385e-02, -2.80530984e-02, -2.75910814e-02, ...,\n",
       "         -1.18918978e-02,  1.17688770e-02, -2.07577954e-03]],\n",
       "\n",
       "       [[-4.35538852e-03, -9.68924143e-04,  5.33652856e-03, ...,\n",
       "         -6.65682726e-03,  1.50343904e-04, -1.02347478e-04],\n",
       "        [-1.38634684e-02, -8.78161322e-03, -8.82487051e-03, ...,\n",
       "          1.86707781e-02, -1.04731361e-03, -1.05904642e-03],\n",
       "        [-1.78423898e-03,  5.84597424e-03,  2.56957719e-02, ...,\n",
       "          9.13203665e-03, -3.02993818e-04, -4.67436716e-04],\n",
       "        [-6.33120426e-03, -5.54432908e-03, -4.46007307e-03, ...,\n",
       "         -1.65916394e-03, -4.95513945e-05, -3.68821701e-04],\n",
       "        [-2.46370299e-02, -3.01046093e-02, -4.84178880e-02, ...,\n",
       "          1.18746053e-02, -2.39453960e-03, -1.29233671e-03]],\n",
       "\n",
       "       ...,\n",
       "\n",
       "       [[-6.67634113e-03, -1.06326030e-02,  6.20887015e-02, ...,\n",
       "         -2.82167168e-03, -2.73670021e-04,  7.02900714e-05],\n",
       "        [-1.59957077e-02,  2.94044392e-02,  4.45413512e-02, ...,\n",
       "          1.75990277e-03, -9.93930829e-05, -2.18617515e-04],\n",
       "        [-1.25510717e-02,  5.26137169e-02,  1.22695544e-01, ...,\n",
       "         -3.00959649e-03,  3.93080302e-04, -1.03476116e-03],\n",
       "        [ 1.85821057e-02, -9.48079656e-03,  7.18124258e-02, ...,\n",
       "         -5.62842371e-04, -3.88788211e-04, -4.62219922e-04],\n",
       "        [ 5.66968476e-03,  4.85417420e-02,  2.38191447e-01, ...,\n",
       "         -1.40043634e-02, -3.27528351e-03, -1.64468051e-03]],\n",
       "\n",
       "       [[ 7.25426657e-05, -1.25336652e-03, -1.15752089e-03, ...,\n",
       "         -3.75132938e-04,  1.81778298e-04, -1.23043014e-04],\n",
       "        [-1.55011788e-02, -2.33157678e-03, -5.43222942e-03, ...,\n",
       "         -6.47102824e-03, -1.36193668e-04, -6.91907543e-04],\n",
       "        [-1.23499496e-02, -1.71479639e-02, -1.71503047e-02, ...,\n",
       "          1.10095002e-02, -1.77060525e-03, -1.26452928e-03],\n",
       "        [-1.13055406e-03,  3.48389704e-04, -6.23235255e-04, ...,\n",
       "         -4.54494966e-03, -3.52226978e-05,  6.20117415e-04],\n",
       "        [-2.20621903e-02, -2.91689840e-02, -2.63072409e-02, ...,\n",
       "          1.74303946e-03, -1.88381120e-03, -1.83062661e-03]],\n",
       "\n",
       "       [[-3.16918786e-04, -2.97639967e-03, -2.22756059e-03, ...,\n",
       "         -3.04014356e-05, -7.58656171e-04,  1.65354116e-03],\n",
       "        [-1.18251635e-02, -7.32233810e-03, -4.64360849e-03, ...,\n",
       "         -6.58341054e-03,  8.47158668e-04, -3.80453936e-03],\n",
       "        [ 3.41730197e-03,  2.78392871e-03, -3.70532489e-03, ...,\n",
       "         -1.52301487e-02, -2.72321377e-03, -1.94321062e-03],\n",
       "        [-5.89450920e-03, -2.52440398e-03, -6.38014948e-03, ...,\n",
       "          4.93439574e-03, -1.66282726e-03,  1.44831227e-03],\n",
       "        [-3.63520406e-02, -2.95142884e-02, -3.37138876e-02, ...,\n",
       "         -1.72900625e-03,  6.53484017e-04,  9.35590751e-03]]])\n",
       "\n",
       ".base_values =\n",
       "array([[0.05097133, 0.0495535 , 0.05067053, ..., 0.01863857, 0.00364405,\n",
       "        0.00328999],\n",
       "       [0.05097133, 0.0495535 , 0.05067053, ..., 0.01863857, 0.00364405,\n",
       "        0.00328999],\n",
       "       [0.05097133, 0.0495535 , 0.05067053, ..., 0.01863857, 0.00364405,\n",
       "        0.00328999],\n",
       "       ...,\n",
       "       [0.05097133, 0.0495535 , 0.05067053, ..., 0.01863857, 0.00364405,\n",
       "        0.00328999],\n",
       "       [0.05097133, 0.0495535 , 0.05067053, ..., 0.01863857, 0.00364405,\n",
       "        0.00328999],\n",
       "       [0.05097133, 0.0495535 , 0.05067053, ..., 0.01863857, 0.00364405,\n",
       "        0.00328999]])\n",
       "\n",
       ".data =\n",
       "array([[1.700000e+01, 4.000000e+00, 1.000000e+00, 1.730200e+01,\n",
       "        1.300000e+01],\n",
       "       [3.200000e+01, 8.250000e+02, 2.100000e+02, 2.250700e+01,\n",
       "        1.400000e+01],\n",
       "       [3.900000e+01, 8.440000e+02, 6.000000e+00, 2.720200e+01,\n",
       "        9.000000e+00],\n",
       "       ...,\n",
       "       [1.400000e+01, 8.220000e+02, 1.310000e+02, 2.372800e+01,\n",
       "        4.000000e+00],\n",
       "       [1.800000e+01, 8.210000e+02, 2.100000e+02, 1.484444e+03,\n",
       "        1.200000e+01],\n",
       "       [1.800000e+01, 8.390000e+02, 1.000000e+01, 3.119800e+01,\n",
       "        1.800000e+01]])"
      ]
     },
     "execution_count": 41,
     "metadata": {},
     "output_type": "execute_result"
    }
   ],
   "source": [
    "explainer = shap.Explainer(rf_model)\n",
    "shap_values_classification = explainer(X_test)\n",
    "shap_values_classification"
   ]
  },
  {
   "cell_type": "code",
   "execution_count": 42,
   "metadata": {},
   "outputs": [
    {
     "data": {
      "text/plain": [
       "['explainer.pkl']"
      ]
     },
     "execution_count": 42,
     "metadata": {},
     "output_type": "execute_result"
    }
   ],
   "source": [
    "dump(explainer, 'explainer.pkl')"
   ]
  },
  {
   "cell_type": "code",
   "execution_count": 36,
   "metadata": {},
   "outputs": [
    {
     "ename": "TypeError",
     "evalue": "bad operand type for abs(): 'Explanation'",
     "output_type": "error",
     "traceback": [
      "\u001b[1;31m---------------------------------------------------------------------------\u001b[0m",
      "\u001b[1;31mTypeError\u001b[0m                                 Traceback (most recent call last)",
      "Cell \u001b[1;32mIn[36], line 1\u001b[0m\n\u001b[1;32m----> 1\u001b[0m \u001b[43mshap\u001b[49m\u001b[38;5;241;43m.\u001b[39;49m\u001b[43mbar_plot\u001b[49m\u001b[43m(\u001b[49m\u001b[43mshap_values_classification\u001b[49m\u001b[43m)\u001b[49m\n",
      "File \u001b[1;32m~\\AppData\\Local\\Packages\\PythonSoftwareFoundation.Python.3.11_qbz5n2kfra8p0\\LocalCache\\local-packages\\Python311\\site-packages\\shap\\plots\\_bar.py:391\u001b[0m, in \u001b[0;36mbar_legacy\u001b[1;34m(shap_values, features, feature_names, max_display, show)\u001b[0m\n\u001b[0;32m    387\u001b[0m \u001b[38;5;28;01melse\u001b[39;00m:\n\u001b[0;32m    388\u001b[0m     max_display \u001b[38;5;241m=\u001b[39m \u001b[38;5;28mmin\u001b[39m(\u001b[38;5;28mlen\u001b[39m(feature_names), max_display)\n\u001b[1;32m--> 391\u001b[0m feature_order \u001b[38;5;241m=\u001b[39m np\u001b[38;5;241m.\u001b[39margsort(\u001b[38;5;241m-\u001b[39m\u001b[43mnp\u001b[49m\u001b[38;5;241;43m.\u001b[39;49m\u001b[43mabs\u001b[49m\u001b[43m(\u001b[49m\u001b[43mshap_values\u001b[49m\u001b[43m)\u001b[49m)\n\u001b[0;32m    393\u001b[0m \u001b[38;5;66;03m#\u001b[39;00m\n\u001b[0;32m    394\u001b[0m feature_inds \u001b[38;5;241m=\u001b[39m feature_order[:max_display]\n",
      "\u001b[1;31mTypeError\u001b[0m: bad operand type for abs(): 'Explanation'"
     ]
    }
   ],
   "source": [
    "shap.bar_plot(shap_values_classification)"
   ]
  }
 ],
 "metadata": {
  "kernelspec": {
   "display_name": "Python 3",
   "language": "python",
   "name": "python3"
  },
  "language_info": {
   "codemirror_mode": {
    "name": "ipython",
    "version": 3
   },
   "file_extension": ".py",
   "mimetype": "text/x-python",
   "name": "python",
   "nbconvert_exporter": "python",
   "pygments_lexer": "ipython3",
   "version": "3.11.9"
  }
 },
 "nbformat": 4,
 "nbformat_minor": 2
}
